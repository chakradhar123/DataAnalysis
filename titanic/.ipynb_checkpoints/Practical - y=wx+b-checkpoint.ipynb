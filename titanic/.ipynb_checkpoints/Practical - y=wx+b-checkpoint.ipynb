{
 "cells": [
  {
   "cell_type": "code",
   "execution_count": 3,
   "metadata": {},
   "outputs": [],
   "source": [
    "#Effect of amount of water provided (litres) per day on the size of trees (m)\n",
    "\n",
    "water = [0,1,2,3,4,5,6,7,8]\n",
    "tree_size = [4,5,6,7,8,9,10,11,12]"
   ]
  },
  {
   "cell_type": "code",
   "execution_count": null,
   "metadata": {},
   "outputs": [],
   "source": [
    "#Effect of wingspan (cm) on flying speed (km/h)\n",
    "\n",
    "wingspan = [0,10,20,30,40,50,60,70,80,90,100]\n",
    "flying_speed = [0,5,10,15,20,25,30,35,40,45,50]"
   ]
  },
  {
   "cell_type": "code",
   "execution_count": null,
   "metadata": {},
   "outputs": [],
   "source": [
    "#Effect of number gifts given to employees each year, on staff satisfaction levels (100%)\n",
    "\n",
    "num_of_gifts = [0,1,2,3,4,5]\n",
    "satisfaction = [50,55,60,65,70,75,325]"
   ]
  }
 ],
 "metadata": {
  "kernelspec": {
   "display_name": "Python 3",
   "language": "python",
   "name": "python3"
  },
  "language_info": {
   "codemirror_mode": {
    "name": "ipython",
    "version": 3
   },
   "file_extension": ".py",
   "mimetype": "text/x-python",
   "name": "python",
   "nbconvert_exporter": "python",
   "pygments_lexer": "ipython3",
   "version": "3.6.8"
  }
 },
 "nbformat": 4,
 "nbformat_minor": 2
}
